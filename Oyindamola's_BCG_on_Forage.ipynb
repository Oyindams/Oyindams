{
  "nbformat": 4,
  "nbformat_minor": 0,
  "metadata": {
    "colab": {
      "provenance": [],
      "mount_file_id": "1hLKhfhz0-30xMurgohw-YaZheHf8l98W",
      "authorship_tag": "ABX9TyPBFCKrBADuj68vFM4vORDf",
      "include_colab_link": true
    },
    "kernelspec": {
      "name": "python3",
      "display_name": "Python 3"
    },
    "language_info": {
      "name": "python"
    }
  },
  "cells": [
    {
      "cell_type": "markdown",
      "metadata": {
        "id": "view-in-github",
        "colab_type": "text"
      },
      "source": [
        "<a href=\"https://colab.research.google.com/github/Oyindams/Oyindams/blob/main/Oyindamola's_BCG_on_Forage.ipynb\" target=\"_parent\"><img src=\"https://colab.research.google.com/assets/colab-badge.svg\" alt=\"Open In Colab\"/></a>"
      ]
    },
    {
      "cell_type": "code",
      "execution_count": 6,
      "metadata": {
        "colab": {
          "base_uri": "https://localhost:8080/"
        },
        "id": "c6fKJPgIPrtp",
        "outputId": "7b7f23e9-c707-4ed0-d274-e99ccd7cefed"
      },
      "outputs": [
        {
          "output_type": "stream",
          "name": "stdout",
          "text": [
            "Requirement already satisfied: pandas in /usr/local/lib/python3.10/dist-packages (2.2.2)\n",
            "Requirement already satisfied: matplotlib in /usr/local/lib/python3.10/dist-packages (3.8.0)\n",
            "Requirement already satisfied: openpyxl in /usr/local/lib/python3.10/dist-packages (3.1.5)\n",
            "Requirement already satisfied: numpy>=1.22.4 in /usr/local/lib/python3.10/dist-packages (from pandas) (1.26.4)\n",
            "Requirement already satisfied: python-dateutil>=2.8.2 in /usr/local/lib/python3.10/dist-packages (from pandas) (2.8.2)\n",
            "Requirement already satisfied: pytz>=2020.1 in /usr/local/lib/python3.10/dist-packages (from pandas) (2024.2)\n",
            "Requirement already satisfied: tzdata>=2022.7 in /usr/local/lib/python3.10/dist-packages (from pandas) (2024.2)\n",
            "Requirement already satisfied: contourpy>=1.0.1 in /usr/local/lib/python3.10/dist-packages (from matplotlib) (1.3.0)\n",
            "Requirement already satisfied: cycler>=0.10 in /usr/local/lib/python3.10/dist-packages (from matplotlib) (0.12.1)\n",
            "Requirement already satisfied: fonttools>=4.22.0 in /usr/local/lib/python3.10/dist-packages (from matplotlib) (4.54.1)\n",
            "Requirement already satisfied: kiwisolver>=1.0.1 in /usr/local/lib/python3.10/dist-packages (from matplotlib) (1.4.7)\n",
            "Requirement already satisfied: packaging>=20.0 in /usr/local/lib/python3.10/dist-packages (from matplotlib) (24.1)\n",
            "Requirement already satisfied: pillow>=6.2.0 in /usr/local/lib/python3.10/dist-packages (from matplotlib) (10.4.0)\n",
            "Requirement already satisfied: pyparsing>=2.3.1 in /usr/local/lib/python3.10/dist-packages (from matplotlib) (3.2.0)\n",
            "Requirement already satisfied: et-xmlfile in /usr/local/lib/python3.10/dist-packages (from openpyxl) (2.0.0)\n",
            "Requirement already satisfied: six>=1.5 in /usr/local/lib/python3.10/dist-packages (from python-dateutil>=2.8.2->pandas) (1.16.0)\n"
          ]
        }
      ],
      "source": [
        "!pip install pandas matplotlib openpyxl\n",
        "\n"
      ]
    },
    {
      "cell_type": "code",
      "source": [
        "import pandas as pd\n",
        "\n",
        "# Load the Excel data into a DataFrame\n",
        "df = pd.read_excel('/content/drive/MyDrive/gen ai/Book1.xlsx')\n",
        "\n",
        "# Display the first few rows of the data to verify\n",
        "print(df.head())\n"
      ],
      "metadata": {
        "colab": {
          "base_uri": "https://localhost:8080/"
        },
        "id": "vJ9NXPoyYLZT",
        "outputId": "261aa3f3-20ef-4c87-fd28-b9d254691214"
      },
      "execution_count": 8,
      "outputs": [
        {
          "output_type": "stream",
          "name": "stdout",
          "text": [
            "     Company  Fiscal Year  Total Revenue  Net Income  Total Assets  \\\n",
            "0  Microsoft         2022         198270       72738        364840   \n",
            "1  Microsoft         2023         211915       72361        411976   \n",
            "2  Microsoft         2024         245122       88136        512163   \n",
            "3      Tesla         2021          53823        5644         62131   \n",
            "4      Tesla         2022          81462       12587         82338   \n",
            "\n",
            "   Total Liabilities  Cash Flow from Operating System  \n",
            "0             198298                            89035  \n",
            "1             205753                            87582  \n",
            "2             243686                           118548  \n",
            "3              30548                            11497  \n",
            "4              36440                            14724  \n"
          ]
        }
      ]
    },
    {
      "cell_type": "code",
      "source": [
        "import pandas as pd\n",
        "import matplotlib.pyplot as plt"
      ],
      "metadata": {
        "id": "fdfgwB_4cAn7"
      },
      "execution_count": 9,
      "outputs": []
    },
    {
      "cell_type": "code",
      "source": [
        "# Check the shape (number of rows and columns)\n",
        "print(df.shape)\n",
        "\n",
        "# Check the data types of each column\n",
        "print(df.dtypes)"
      ],
      "metadata": {
        "colab": {
          "base_uri": "https://localhost:8080/"
        },
        "id": "eR6ZIQCVcKfG",
        "outputId": "8dfca3d8-bc2a-494e-fc6d-524f171f059b"
      },
      "execution_count": 10,
      "outputs": [
        {
          "output_type": "stream",
          "name": "stdout",
          "text": [
            "(9, 7)\n",
            "Company                            object\n",
            "Fiscal Year                         int64\n",
            "Total Revenue                       int64\n",
            "Net Income                          int64\n",
            "Total Assets                        int64\n",
            "Total Liabilities                   int64\n",
            "Cash Flow from Operating System     int64\n",
            "dtype: object\n"
          ]
        }
      ]
    },
    {
      "cell_type": "code",
      "source": [
        "# Plotting Total Revenue for each company\n",
        "companies = df['Company'].unique()  # Get unique company names\n",
        "\n",
        "for company in companies:\n",
        "    company_data = df[df['Company'] == company]\n",
        "\n",
        "    # Set Fiscal Year as the index\n",
        "    company_data.set_index('Fiscal Year', inplace=True)\n",
        "\n",
        "    # Plot the Total Revenue over time for the current company\n",
        "    plt.plot(company_data.index, company_data['Total Revenue'], marker='o', label=company)\n",
        "\n",
        "# Customize the plot\n",
        "plt.title('Total Revenue Trend for Microsoft, Tesla, and Apple')\n",
        "plt.xlabel('Fiscal Year')\n",
        "plt.ylabel('Total Revenue (in billions)')\n",
        "plt.legend()\n",
        "plt.grid(True)\n",
        "plt.show()\n"
      ],
      "metadata": {
        "colab": {
          "base_uri": "https://localhost:8080/",
          "height": 472
        },
        "id": "Jk805AN1kHsn",
        "outputId": "2535fdf6-1072-4c66-868d-f5a843dca39e"
      },
      "execution_count": 12,
      "outputs": [
        {
          "output_type": "display_data",
          "data": {
            "text/plain": [
              "<Figure size 640x480 with 1 Axes>"
            ],
            "image/png": "[encoded data removed]"
          },
          "metadata": {}
        }
      ]
    },
    {
      "cell_type": "code",
      "source": [
        "# Calculate Year-over-Year (YoY) Growth for Financial Metrics\n",
        "df['Revenue Growth (%)'] = df.groupby('Company')['Total Revenue'].pct_change() * 100\n",
        "df['Net Income Growth (%)'] = df.groupby('Company')['Net Income'].pct_change() * 100\n",
        "df['Total Assets Growth (%)'] = df.groupby('Company')['Total Assets'].pct_change() * 100\n",
        "df['Total Liabilities Growth (%)'] = df.groupby('Company')['Total Liabilities'].pct_change() * 100\n",
        "df['Cash Flow Growth (%)'] = df.groupby('Company')['Cash Flow from Operating System'].pct_change() * 100\n"
      ],
      "metadata": {
        "id": "_F0pmF3lkke3"
      },
      "execution_count": 15,
      "outputs": []
    },
    {
      "cell_type": "code",
      "source": [
        "# Calculate average growth for each company across all years\n",
        "average_growth = df.groupby('Company').agg({\n",
        "    'Revenue Growth (%)': 'mean',\n",
        "    'Net Income Growth (%)': 'mean',\n",
        "    'Total Assets Growth (%)': 'mean',\n",
        "    'Total Liabilities Growth (%)': 'mean',\n",
        "    'Cash Flow Growth (%)': 'mean'\n",
        "}).reset_index()\n",
        "\n",
        "# Display the average growth per company\n",
        "print(average_growth)\n"
      ],
      "metadata": {
        "colab": {
          "base_uri": "https://localhost:8080/"
        },
        "id": "sgCMRoKplV4a",
        "outputId": "e14e4eb6-6219-4989-a681-daf78dca05fc"
      },
      "execution_count": 16,
      "outputs": [
        {
          "output_type": "stream",
          "name": "stdout",
          "text": [
            "     Company  Revenue Growth (%)  Net Income Growth (%)  \\\n",
            "0      Apple           -0.389233              -3.086755   \n",
            "1  Microsoft           11.275996              10.641059   \n",
            "2      Tesla           35.073460              70.989801   \n",
            "\n",
            "   Total Assets Growth (%)  Total Liabilities Growth (%)  Cash Flow Growth (%)  \n",
            "0                 1.733646                      1.101096             -1.263713  \n",
            "1                18.619143                     11.097838             16.862319  \n",
            "2                31.005712                     18.657286              9.049037  \n"
          ]
        }
      ]
    },
    {
      "cell_type": "code",
      "source": [
        "# Compare growth rates for all companies in a specific year (e.g., 2023)\n",
        "yoy_comparison_2023 = df[df['Fiscal Year'] == 2023][['Company', 'Revenue Growth (%)', 'Net Income Growth (%)', 'Total Assets Growth (%)', 'Total Liabilities Growth (%)', 'Cash Flow Growth (%)']]\n",
        "\n",
        "# Display the comparison for 2023\n",
        "print(yoy_comparison_2023)\n"
      ],
      "metadata": {
        "colab": {
          "base_uri": "https://localhost:8080/"
        },
        "id": "g5D5u0prmBge",
        "outputId": "12b56551-8a0d-4794-c771-07be877e69fb"
      },
      "execution_count": 17,
      "outputs": [
        {
          "output_type": "stream",
          "name": "stdout",
          "text": [
            "     Company  Revenue Growth (%)  Net Income Growth (%)  \\\n",
            "1  Microsoft            6.882030              -0.518299   \n",
            "5      Tesla           18.795267              18.964010   \n",
            "7      Apple           -2.800461              -2.813543   \n",
            "\n",
            "   Total Assets Growth (%)  Total Liabilities Growth (%)  Cash Flow Growth (%)  \n",
            "1                12.919636                      3.759493             -1.631942  \n",
            "5                29.488207                     18.026894             -9.970117  \n",
            "7                -0.048759                     -3.855232             -9.502992  \n"
          ]
        }
      ]
    },
    {
      "cell_type": "code",
      "source": [
        "# Aggregate financial data by year\n",
        "annual_summary = df.groupby('Fiscal Year').agg({\n",
        "    'Total Revenue': 'sum',\n",
        "    'Net Income': 'sum',\n",
        "    'Total Assets': 'sum',\n",
        "    'Total Liabilities': 'sum',\n",
        "    'Cash Flow from Operating System': 'sum'\n",
        "}).reset_index()\n",
        "\n",
        "# Display the annual summary\n",
        "print(annual_summary)\n"
      ],
      "metadata": {
        "colab": {
          "base_uri": "https://localhost:8080/"
        },
        "id": "2gkXC6HNmHj2",
        "outputId": "f3e41e27-d607-457e-c404-a326c5e99c67"
      },
      "execution_count": 18,
      "outputs": [
        {
          "output_type": "stream",
          "name": "stdout",
          "text": [
            "   Fiscal Year  Total Revenue  Net Income  Total Assets  Total Liabilities  \\\n",
            "0         2021          53823        5644         62131              30548   \n",
            "1         2022         674060      185128        799933             536821   \n",
            "2         2023         691973      184330        871177             539199   \n",
            "3         2024         636157      181872        877143             551716   \n",
            "\n",
            "   Cash Flow from Operating System  \n",
            "0                            11497  \n",
            "1                           225910  \n",
            "2                           211381  \n",
            "3                           236802  \n"
          ]
        }
      ]
    },
    {
      "cell_type": "code",
      "source": [
        "# Pivot table for Total Revenue by Company and Year\n",
        "pivot_revenue = df.pivot_table(index='Fiscal Year', columns='Company', values='Total Revenue', aggfunc='sum')\n",
        "\n",
        "# Display the pivot table for Total Revenue\n",
        "print(pivot_revenue)\n"
      ],
      "metadata": {
        "colab": {
          "base_uri": "https://localhost:8080/"
        },
        "id": "Cd08Pyb1m2wm",
        "outputId": "a7e36002-7b5b-455f-a9a6-f1d4af4e4664"
      },
      "execution_count": 19,
      "outputs": [
        {
          "output_type": "stream",
          "name": "stdout",
          "text": [
            "Company         Apple  Microsoft    Tesla\n",
            "Fiscal Year                              \n",
            "2021              NaN        NaN  53823.0\n",
            "2022         394328.0   198270.0  81462.0\n",
            "2023         383285.0   211915.0  96773.0\n",
            "2024         391035.0   245122.0      NaN\n"
          ]
        }
      ]
    },
    {
      "cell_type": "code",
      "source": [
        "### Year-over-Year Growth Analysis\n",
        "\"In this analysis, we calculated the year-over-year (YoY) growth for five key financial metrics: **Total Revenue**, **Net Income**, **Total Assets**, **Total Liabilities**, and **Cash Flow from Operating Activities**. The percentage change was calculated using the `pct_change()` method in pandas, which computes the difference between consecutive years as a percentage.\"\n",
        "\n",
        "#### Observations\n",
        "\"- **Total Revenue Growth**: We observed that Microsoft showed consistent revenue growth over the past three years, while Tesla had a significant spike in 2023.\"\n",
        "\"- **Net Income Growth**: Apple's net income grew at a slower pace compared to its revenue, suggesting higher operating costs or investments.\"\n",
        "\"- **Cash Flow**: Tesla demonstrated a strong increase in cash flow, driven by both higher revenue and improved efficiency.\"\n",
        "\n",
        "#### Insights\n",
        "\"- Microsoft appears to be on a stable growth trajectory, with steady revenue and net income growth.\"\n",
        "\"- Tesla's growth in revenue and cash flow has been impressive, but it should focus on sustaining profitability in the long run.\"\n",
        "\"- Apple, while a leader in total revenue, shows slower growth in net income, indicating potential challenges in maintaining profitability margins.\"\n"
      ],
      "metadata": {
        "colab": {
          "base_uri": "https://localhost:8080/",
          "height": 53
        },
        "id": "Wz0-ytS9n_yU",
        "outputId": "933734a8-4f8a-47cf-90b1-9f2b726cf044"
      },
      "execution_count": 31,
      "outputs": [
        {
          "output_type": "execute_result",
          "data": {
            "text/plain": [
              "'- Apple, while a leader in total revenue, shows slower growth in net income, indicating potential challenges in maintaining profitability margins.'"
            ],
            "application/vnd.google.colaboratory.intrinsic+json": {
              "type": "string"
            }
          },
          "metadata": {},
          "execution_count": 31
        }
      ]
    },
    {
      "cell_type": "code",
      "source": [
        "### Markdown\n",
        "\"In this, I first installed my libraries, then i loaded the data set from my drive and imported my other libraries, checked for some data types and visualized my reports for the Total revenue for each of the Companies.\""
      ],
      "metadata": {
        "colab": {
          "base_uri": "https://localhost:8080/",
          "height": 53
        },
        "id": "RpWl7ru4q8Tb",
        "outputId": "d4c5f71e-0917-47e2-d5c3-35266dd72138"
      },
      "execution_count": 33,
      "outputs": [
        {
          "output_type": "execute_result",
          "data": {
            "text/plain": [
              "'In this, I first installed my libraries, then i loaded the data set from my drive and imported my other libraries, checked for some data types and visualized my reports for the Total revenue for each of the Companies.'"
            ],
            "application/vnd.google.colaboratory.intrinsic+json": {
              "type": "string"
            }
          },
          "metadata": {},
          "execution_count": 33
        }
      ]
    }
  ]
}